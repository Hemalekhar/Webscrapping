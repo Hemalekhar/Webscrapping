{
 "cells": [
  {
   "cell_type": "code",
   "execution_count": 2,
   "id": "8f4c59a7",
   "metadata": {},
   "outputs": [],
   "source": [
    "#installing libraries\n",
    "import pandas as pd\n",
    "import matplotlib as mpl\n",
    "import matplotlib.pyplot as plt\n",
    "import requests\n",
    "from urllib.request import urlopen\n",
    "from bs4 import BeautifulSoup"
   ]
  },
  {
   "cell_type": "code",
   "execution_count": 3,
   "id": "ce65c2dc",
   "metadata": {},
   "outputs": [],
   "source": [
    "#Using urlopen \n",
    "html = urlopen('https://hemalekhar.github.io/hemalekha/')"
   ]
  },
  {
   "cell_type": "code",
   "execution_count": 4,
   "id": "6fef9f6d",
   "metadata": {},
   "outputs": [],
   "source": [
    "bs = BeautifulSoup(html, \"html.parser\")"
   ]
  },
  {
   "cell_type": "code",
   "execution_count": 17,
   "id": "41ed10b6",
   "metadata": {},
   "outputs": [
    {
     "name": "stdout",
     "output_type": "stream",
     "text": [
      "List all the header tags :\n",
      "\n",
      "<h1>HEMALEKHA EGAMBARAME</h1>\n",
      "\n",
      "<h2>Three skills to define me :\r\n",
      "\t\t\t\t\t<br/><p> 1. Critical Thinking\r\n",
      "\t\t\t\t\t<br/>2. Problem solver \r\n",
      "\t\t\t\t\t<br/>3. Decision-making</p></h2>\n",
      "\n",
      "<h2>MY PORTFOLIO</h2>\n",
      "\n",
      "<h3>SQL</h3>\n",
      "\n",
      "<h3>PYTHON</h3>\n",
      "\n",
      "<h3>DASHBOARDS</h3>\n"
     ]
    }
   ],
   "source": [
    "#Checking the headers tags in the webpage\n",
    "titles = bs.find_all(['h1', 'h2','h3'])\n",
    "print('List all the header tags :', *titles, sep='\\n\\n')"
   ]
  },
  {
   "cell_type": "code",
   "execution_count": 7,
   "id": "fabe2171",
   "metadata": {},
   "outputs": [
    {
     "data": {
      "text/plain": [
       "<Response [200]>"
      ]
     },
     "execution_count": 7,
     "metadata": {},
     "output_type": "execute_result"
    }
   ],
   "source": [
    "#Using requests lib and checking the response -> 200 is successful\n",
    "r = requests.get(\"https://hemalekhar.github.io/hemalekha/\")\n",
    "r"
   ]
  },
  {
   "cell_type": "code",
   "execution_count": 11,
   "id": "fb9e7c02",
   "metadata": {},
   "outputs": [
    {
     "name": "stdout",
     "output_type": "stream",
     "text": [
      "None\n",
      "#\n",
      "https://github.com/Hemalekhar/SQL\n",
      "https://github.com/Hemalekhar/Python\n",
      "https://github.com/Hemalekhar/Dashboards\n",
      "https://github.com/Hemalekhar\n",
      "https://www.linkedin.com/in/hemalekha-egambarame/\n"
     ]
    }
   ],
   "source": [
    "#Getting the links in the webpage\n",
    "links = bs.find_all(['a'])\n",
    "for tag in links: \n",
    "  # Get the data from href key\n",
    "  print(tag.get('href', None), end = \"\\n\")"
   ]
  }
 ],
 "metadata": {
  "kernelspec": {
   "display_name": "Python 3 (ipykernel)",
   "language": "python",
   "name": "python3"
  },
  "language_info": {
   "codemirror_mode": {
    "name": "ipython",
    "version": 3
   },
   "file_extension": ".py",
   "mimetype": "text/x-python",
   "name": "python",
   "nbconvert_exporter": "python",
   "pygments_lexer": "ipython3",
   "version": "3.9.13"
  }
 },
 "nbformat": 4,
 "nbformat_minor": 5
}
